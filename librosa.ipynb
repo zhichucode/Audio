{
 "cells": [
  {
   "cell_type": "code",
   "execution_count": 1,
   "id": "278a688f-4adf-44fa-aa5e-1c2ef27ffc89",
   "metadata": {},
   "outputs": [
    {
     "name": "stderr",
     "output_type": "stream",
     "text": [
      "/home/zzh/.local/lib/python3.6/site-packages/numba/core/errors.py:154: UserWarning: Insufficiently recent colorama version found. Numba requires colorama >= 0.3.9\n",
      "  warnings.warn(msg)\n",
      "Downloading file 'sorohanro_-_solo-trumpet-06.ogg' from 'https://librosa.org/data/audio/sorohanro_-_solo-trumpet-06.ogg' to '/home/zzh/.cache/librosa'.\n"
     ]
    }
   ],
   "source": [
    "import librosa\n",
    "y, sr = librosa.load(librosa.ex('trumpet'))"
   ]
  },
  {
   "cell_type": "code",
   "execution_count": null,
   "id": "67471957-c217-4301-ac0b-858916532dc4",
   "metadata": {},
   "outputs": [],
   "source": []
  }
 ],
 "metadata": {
  "kernelspec": {
   "display_name": "Python 3",
   "language": "python",
   "name": "python3"
  },
  "language_info": {
   "codemirror_mode": {
    "name": "ipython",
    "version": 3
   },
   "file_extension": ".py",
   "mimetype": "text/x-python",
   "name": "python",
   "nbconvert_exporter": "python",
   "pygments_lexer": "ipython3",
   "version": "3.6.9"
  }
 },
 "nbformat": 4,
 "nbformat_minor": 5
}
