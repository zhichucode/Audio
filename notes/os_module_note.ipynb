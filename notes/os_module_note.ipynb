{
 "cells": [
  {
   "cell_type": "code",
   "execution_count": 1,
   "id": "db10a100-fef1-4284-af3c-ae21cbbe43c2",
   "metadata": {},
   "outputs": [],
   "source": [
    "import os"
   ]
  },
  {
   "cell_type": "code",
   "execution_count": 3,
   "id": "937c89a2-d710-445e-b71b-dac6dca23751",
   "metadata": {},
   "outputs": [
    {
     "name": "stdout",
     "output_type": "stream",
     "text": [
      "Current working directory:  /home/zzh/Projects/Audio/notes\n"
     ]
    }
   ],
   "source": [
    "# Get the current working directory\n",
    "# the current workng directory is the folder in which the Python script is operating.\n",
    "os.getcwd()\n",
    "print(\"Current working directory: \", os.getcwd())"
   ]
  },
  {
   "cell_type": "code",
   "execution_count": 4,
   "id": "4f76a6a3-cf06-4352-bfa2-6c14451973a8",
   "metadata": {},
   "outputs": [
    {
     "data": {
      "text/plain": [
       "'/home/zzh/Projects/Audio'"
      ]
     },
     "execution_count": 4,
     "metadata": {},
     "output_type": "execute_result"
    }
   ],
   "source": [
    "# os.chdir('path') change the current working directory\n",
    "os.chdir('../')\n",
    "os.getcwd()"
   ]
  },
  {
   "cell_type": "code",
   "execution_count": 5,
   "id": "0b09890d-fff3-4093-990c-077a3fe4b3b6",
   "metadata": {},
   "outputs": [
    {
     "data": {
      "text/plain": [
       "'/home/zzh/Projects/Audio/notes'"
      ]
     },
     "execution_count": 5,
     "metadata": {},
     "output_type": "execute_result"
    }
   ],
   "source": [
    "os.chdir('./notes/')\n",
    "os.getcwd()"
   ]
  },
  {
   "cell_type": "code",
   "execution_count": 7,
   "id": "19e70e1c-3d87-4c34-b773-9c2e6f69e995",
   "metadata": {},
   "outputs": [
    {
     "name": "stdout",
     "output_type": "stream",
     "text": [
      "directory 'test_directory' created\n"
     ]
    }
   ],
   "source": [
    "# os.mkdir()\n",
    "directory = \"test_directory\"\n",
    "parent_dir = os.getcwd()\n",
    "\n",
    "path = os.path.join(parent_dir, directory)\n",
    "os.mkdir(path)\n",
    "print(\"directory '%s' created\" % directory)"
   ]
  },
  {
   "cell_type": "code",
   "execution_count": 9,
   "id": "62558e95-1258-4f83-a19d-347e03bbae4b",
   "metadata": {},
   "outputs": [
    {
     "name": "stdout",
     "output_type": "stream",
     "text": [
      "['home', 'mnt', 'lib64', 'run', 'proc', 'usr', 'bin', 'swapfile', 'root', 'lib', 'sys', 'initrd.img.old', 'cdrom', 'media', 'sbin', 'opt', 'etc', 'var', 'tmp', 'snap', 'srv', 'lost+found', 'dev', 'vmlinuz.old', 'initrd.img', 'boot', 'vmlinuz']\n"
     ]
    }
   ],
   "source": [
    "# os.listdir() List out files and directorys with python\n",
    "path = '/'\n",
    "dir_list = os.listdir(path) # this is a string, not a output like linux shell\n",
    "print(dir_list)"
   ]
  },
  {
   "cell_type": "code",
   "execution_count": 10,
   "id": "05b98f23-a6d1-4a0b-aeca-59945c06c1b9",
   "metadata": {},
   "outputs": [],
   "source": [
    "#Deleting diectory or files using python\n",
    "# os.remove() --> delete a file but not for directory\n",
    "# os.rmdir -->\n",
    "\n",
    "file = 'test_delete.txt'\n",
    "location = os.getcwd()\n",
    "path = os.path.join(location, file)\n",
    "os.remove(path)"
   ]
  },
  {
   "cell_type": "code",
   "execution_count": 11,
   "id": "bbed3a3a-63c2-45f1-967d-5885e72bff1a",
   "metadata": {},
   "outputs": [
    {
     "data": {
      "text/plain": [
       "['lec26_audio.pdf',\n",
       " '.ipynb_checkpoints',\n",
       " 'test_directory',\n",
       " 'os_module_note.ipynb']"
      ]
     },
     "execution_count": 11,
     "metadata": {},
     "output_type": "execute_result"
    }
   ],
   "source": [
    "os.listdir()"
   ]
  },
  {
   "cell_type": "code",
   "execution_count": 12,
   "id": "0396364e-c0d6-4a0c-971b-faa5a3aafbf0",
   "metadata": {},
   "outputs": [],
   "source": [
    "#tackle files is just same as taking the string \n",
    "##### os.rmdir() ###\n",
    "directory = 'test_directory'\n",
    "parent = os.getcwd()\n",
    "path = os.path.join(parent, directory)\n",
    "os.rmdir(path)"
   ]
  },
  {
   "cell_type": "code",
   "execution_count": 13,
   "id": "33e5b1aa-c11f-4361-aab8-6818ea63100b",
   "metadata": {},
   "outputs": [
    {
     "data": {
      "text/plain": [
       "['lec26_audio.pdf', '.ipynb_checkpoints', 'os_module_note.ipynb']"
      ]
     },
     "execution_count": 13,
     "metadata": {},
     "output_type": "execute_result"
    }
   ],
   "source": [
    "os.listdir()"
   ]
  },
  {
   "cell_type": "code",
   "execution_count": 14,
   "id": "1abe3e4e-92e0-4436-b4ee-2cc035582edc",
   "metadata": {},
   "outputs": [
    {
     "name": "stdout",
     "output_type": "stream",
     "text": [
      "posix\n"
     ]
    }
   ],
   "source": [
    "print(os.name)"
   ]
  },
  {
   "cell_type": "code",
   "execution_count": 17,
   "id": "ea8f6f2b-b9aa-4940-815b-49fab7e66364",
   "metadata": {},
   "outputs": [
    {
     "name": "stdout",
     "output_type": "stream",
     "text": [
      "5460\n"
     ]
    }
   ],
   "source": [
    "print(os.path.getsize(\"os_module_note.ipynb\"))"
   ]
  },
  {
   "cell_type": "code",
   "execution_count": 18,
   "id": "e60b8aeb-2e89-426a-badd-000b9b75fc76",
   "metadata": {},
   "outputs": [
    {
     "data": {
      "text/plain": [
       "posix.uname_result(sysname='Linux', nodename='linux', release='5.4.0-100-generic', version='#113~18.04.1-Ubuntu SMP Mon Feb 7 15:02:59 UTC 2022', machine='x86_64')"
      ]
     },
     "execution_count": 18,
     "metadata": {},
     "output_type": "execute_result"
    }
   ],
   "source": [
    "os.uname()"
   ]
  },
  {
   "cell_type": "code",
   "execution_count": 19,
   "id": "59069657-cdff-46ab-8058-646c48b75646",
   "metadata": {},
   "outputs": [
    {
     "data": {
      "text/plain": [
       "'/dev/tty'"
      ]
     },
     "execution_count": 19,
     "metadata": {},
     "output_type": "execute_result"
    }
   ],
   "source": [
    "os.ctermid()"
   ]
  },
  {
   "cell_type": "code",
   "execution_count": 21,
   "id": "2f998129-c268-4393-8633-28d23928d41c",
   "metadata": {},
   "outputs": [
    {
     "data": {
      "text/plain": [
       "environ{'USER': 'zzh',\n",
       "        'LANGUAGE': 'en',\n",
       "        'LC_TIME': 'en_SG.UTF-8',\n",
       "        'XDG_SEAT': 'seat0',\n",
       "        'XDG_SESSION_TYPE': 'x11',\n",
       "        'SSH_AGENT_PID': '1065',\n",
       "        'SHLVL': '1',\n",
       "        'HOME': '/home/zzh',\n",
       "        'DESKTOP_SESSION': 'ubuntu',\n",
       "        'GTK_MODULES': 'gail:atk-bridge',\n",
       "        'GNOME_SHELL_SESSION_MODE': 'ubuntu',\n",
       "        'LC_MONETARY': 'en_SG.UTF-8',\n",
       "        'DBUS_SESSION_BUS_ADDRESS': 'unix:path=/run/user/1000/bus',\n",
       "        'MANDATORY_PATH': '/usr/share/gconf/ubuntu.mandatory.path',\n",
       "        'LOGNAME': 'zzh',\n",
       "        'DEFAULTS_PATH': '/usr/share/gconf/ubuntu.default.path',\n",
       "        'USERNAME': 'zzh',\n",
       "        'XDG_SESSION_ID': '1',\n",
       "        'WINDOWPATH': '1',\n",
       "        'PATH': '/home/zzh/Applications/nvim-linux64/bin:/home/zzh/.local/bin:/usr/local/sbin:/usr/local/bin:/usr/sbin:/usr/bin:/sbin:/bin:/usr/games:/usr/local/games:/snap/bin:/usr/local/go/bin:/usr/local/go/bin:/home/zzh/.fzf/bin',\n",
       "        'PAPERSIZE': 'a4',\n",
       "        'LC_ADDRESS': 'en_SG.UTF-8',\n",
       "        'XDG_RUNTIME_DIR': '/run/user/1000',\n",
       "        'DISPLAY': ':0',\n",
       "        'LANG': 'en_US.UTF-8',\n",
       "        'XDG_CURRENT_DESKTOP': 'Unity',\n",
       "        'LC_TELEPHONE': 'en_SG.UTF-8',\n",
       "        'XDG_SESSION_DESKTOP': 'ubuntu',\n",
       "        'XAUTHORITY': '/run/user/1000/gdm/Xauthority',\n",
       "        'SSH_AUTH_SOCK': '/run/user/1000/keyring/ssh',\n",
       "        'LC_NAME': 'en_SG.UTF-8',\n",
       "        'SHELL': '/bin/zsh',\n",
       "        'QT_ACCESSIBILITY': '1',\n",
       "        'GDMSESSION': 'ubuntu',\n",
       "        'LC_MEASUREMENT': 'en_SG.UTF-8',\n",
       "        'GPG_AGENT_INFO': '/run/user/1000/gnupg/S.gpg-agent:0:1',\n",
       "        'LC_IDENTIFICATION': 'en_SG.UTF-8',\n",
       "        'XDG_VTNR': '1',\n",
       "        'PWD': '/home/zzh/Projects/Audio',\n",
       "        'XDG_DATA_DIRS': '/usr/share/ubuntu:/usr/local/share/:/usr/share/:/var/lib/snapd/desktop',\n",
       "        'XDG_CONFIG_DIRS': '/etc/xdg/xdg-ubuntu:/etc/xdg',\n",
       "        'LC_NUMERIC': 'en_SG.UTF-8',\n",
       "        'LC_PAPER': 'en_SG.UTF-8',\n",
       "        'QT_IM_MODULE': 'ibus',\n",
       "        'XMODIFIERS': '@im=ibus',\n",
       "        'GNOME_DESKTOP_SESSION_ID': 'this-is-deprecated',\n",
       "        'XDG_MENU_PREFIX': 'gnome-',\n",
       "        'SESSION_MANAGER': 'local/linux:@/tmp/.ICE-unix/981,unix/linux:/tmp/.ICE-unix/981',\n",
       "        'GIO_LAUNCHED_DESKTOP_FILE': '/usr/share/applications/tabby.desktop',\n",
       "        'GIO_LAUNCHED_DESKTOP_FILE_PID': '2927',\n",
       "        'GJS_DEBUG_OUTPUT': 'stderr',\n",
       "        'GJS_DEBUG_TOPICS': 'JS ERROR;JS LOG',\n",
       "        'CHROME_DESKTOP': 'tabby.desktop',\n",
       "        'ORIGINAL_XDG_CURRENT_DESKTOP': 'ubuntu:GNOME',\n",
       "        'TABBY_PLUGINS': '',\n",
       "        'GDK_BACKEND': 'x11',\n",
       "        'TERM': 'xterm-color',\n",
       "        'TERM_PROGRAM': 'Tabby',\n",
       "        'OLDPWD': '/home/zzh/Projects/Audio',\n",
       "        'ZSH': '/home/zzh/.oh-my-zsh',\n",
       "        'PAGER': 'cat',\n",
       "        'LESS': '-R',\n",
       "        'LSCOLORS': 'Gxfxcxdxbxegedabagacad',\n",
       "        'LS_COLORS': 'rs=0:di=01;34:ln=01;36:mh=00:pi=40;33:so=01;35:do=01;35:bd=40;33;01:cd=40;33;01:or=40;31;01:mi=00:su=37;41:sg=30;43:ca=30;41:tw=30;42:ow=34;42:st=37;44:ex=01;32:*.tar=01;31:*.tgz=01;31:*.arc=01;31:*.arj=01;31:*.taz=01;31:*.lha=01;31:*.lz4=01;31:*.lzh=01;31:*.lzma=01;31:*.tlz=01;31:*.txz=01;31:*.tzo=01;31:*.t7z=01;31:*.zip=01;31:*.z=01;31:*.Z=01;31:*.dz=01;31:*.gz=01;31:*.lrz=01;31:*.lz=01;31:*.lzo=01;31:*.xz=01;31:*.zst=01;31:*.tzst=01;31:*.bz2=01;31:*.bz=01;31:*.tbz=01;31:*.tbz2=01;31:*.tz=01;31:*.deb=01;31:*.rpm=01;31:*.jar=01;31:*.war=01;31:*.ear=01;31:*.sar=01;31:*.rar=01;31:*.alz=01;31:*.ace=01;31:*.zoo=01;31:*.cpio=01;31:*.7z=01;31:*.rz=01;31:*.cab=01;31:*.wim=01;31:*.swm=01;31:*.dwm=01;31:*.esd=01;31:*.jpg=01;35:*.jpeg=01;35:*.mjpg=01;35:*.mjpeg=01;35:*.gif=01;35:*.bmp=01;35:*.pbm=01;35:*.pgm=01;35:*.ppm=01;35:*.tga=01;35:*.xbm=01;35:*.xpm=01;35:*.tif=01;35:*.tiff=01;35:*.png=01;35:*.svg=01;35:*.svgz=01;35:*.mng=01;35:*.pcx=01;35:*.mov=01;35:*.mpg=01;35:*.mpeg=01;35:*.m2v=01;35:*.mkv=01;35:*.webm=01;35:*.ogm=01;35:*.mp4=01;35:*.m4v=01;35:*.mp4v=01;35:*.vob=01;35:*.qt=01;35:*.nuv=01;35:*.wmv=01;35:*.asf=01;35:*.rm=01;35:*.rmvb=01;35:*.flc=01;35:*.avi=01;35:*.fli=01;35:*.flv=01;35:*.gl=01;35:*.dl=01;35:*.xcf=01;35:*.xwd=01;35:*.yuv=01;35:*.cgm=01;35:*.emf=01;35:*.ogv=01;35:*.ogx=01;35:*.aac=00;36:*.au=00;36:*.flac=00;36:*.m4a=00;36:*.mid=00;36:*.midi=00;36:*.mka=00;36:*.mp3=00;36:*.mpc=00;36:*.ogg=00;36:*.ra=00;36:*.wav=00;36:*.oga=00;36:*.opus=00;36:*.spx=00;36:*.xspf=00;36:',\n",
       "        'https_proxy': 'http://127.0.0.1:2340',\n",
       "        'http_proxy': 'http://127.0.0.1:2340',\n",
       "        'all_proxy': 'socks5://127.0.0.1:2341',\n",
       "        '_': '/home/zzh/.local/bin/jupyter-lab',\n",
       "        'PYDEVD_USE_FRAME_EVAL': 'NO',\n",
       "        'JPY_PARENT_PID': '12203',\n",
       "        'CLICOLOR': '1',\n",
       "        'GIT_PAGER': 'cat',\n",
       "        'MPLBACKEND': 'module://matplotlib_inline.backend_inline'}"
      ]
     },
     "execution_count": 21,
     "metadata": {},
     "output_type": "execute_result"
    }
   ],
   "source": [
    "os.environ"
   ]
  },
  {
   "cell_type": "markdown",
   "id": "e028489c-745f-4c34-8cc7-6d38c71bd9b4",
   "metadata": {},
   "source": [
    "os.walk() :\n",
    "This method generates the filenames in a directory tree by walking the tree in either a top-down or bottom-up manner. os.walk returns a generator that creates a tuple of values (dirpath, dirnames, filenames)"
   ]
  },
  {
   "cell_type": "code",
   "execution_count": 23,
   "id": "bf294fd0-8948-439a-92a6-ed26dc3e698e",
   "metadata": {},
   "outputs": [],
   "source": [
    "os.chdir('../')"
   ]
  },
  {
   "cell_type": "code",
   "execution_count": 27,
   "id": "daea7fd0-c3e9-4e5a-8ed0-867547374e9a",
   "metadata": {},
   "outputs": [
    {
     "name": "stdout",
     "output_type": "stream",
     "text": [
      "./notes/\n",
      "['.ipynb_checkpoints']\n",
      "['lec26_audio.pdf', 'os_module_note.ipynb']\n",
      "*********\n",
      "./notes/.ipynb_checkpoints\n",
      "[]\n",
      "['os_module_note-checkpoint.ipynb']\n",
      "*********\n"
     ]
    }
   ],
   "source": [
    "for dirpath, dirnames, filenames in os.walk('./notes/'):\n",
    "    print(dirpath) #the name of walking path, output a string \n",
    "    print(dirnames) #the directroys in the walking path, output a array\n",
    "    print(filenames) #the files in the walking path, output a array of string\n",
    "    print('*********')"
   ]
  },
  {
   "cell_type": "markdown",
   "id": "d20f8f5f-f2a7-4161-8dd8-6d8fdaff16d4",
   "metadata": {},
   "source": [
    "## os.path.join()\n",
    "This method joins various path components with exactly one directory separator (“/”) following each non-empty part except for the last path component. \n",
    "If the last path component is empty then a directory separator (“/”) is put at the end. \n",
    "This method returns a string with the concatenated path."
   ]
  },
  {
   "cell_type": "code",
   "execution_count": 28,
   "id": "bdd1411c-82e8-4951-84b6-14db41b71305",
   "metadata": {},
   "outputs": [
    {
     "name": "stdout",
     "output_type": "stream",
     "text": [
      "/home/zzh/Projects/Audio\n",
      "/home/zzh/Projects/Audio/test_join\n"
     ]
    }
   ],
   "source": [
    "base_path = os.getcwd()\n",
    "print(base_path)\n",
    "new_path = os.path.join(base_path, \"test_join\")\n",
    "print(new_path)"
   ]
  },
  {
   "cell_type": "code",
   "execution_count": 31,
   "id": "85d496b4-d622-42f3-85a8-51e7d0a380da",
   "metadata": {},
   "outputs": [
    {
     "data": {
      "text/plain": [
       "'zzh'"
      ]
     },
     "execution_count": 31,
     "metadata": {},
     "output_type": "execute_result"
    }
   ],
   "source": [
    "os.path.basename(\"/home/zzh\")"
   ]
  },
  {
   "cell_type": "code",
   "execution_count": 32,
   "id": "fd83174f-8e90-47ae-817e-7aac05b428a1",
   "metadata": {},
   "outputs": [
    {
     "data": {
      "text/plain": [
       "('/home/zzh', 'Applications')"
      ]
     },
     "execution_count": 32,
     "metadata": {},
     "output_type": "execute_result"
    }
   ],
   "source": [
    "os.path.split(\"/home/zzh/Applications\") # output two string"
   ]
  },
  {
   "cell_type": "code",
   "execution_count": 34,
   "id": "4f560e50-c974-49f6-9679-5f3179eb688e",
   "metadata": {},
   "outputs": [
    {
     "data": {
      "text/plain": [
       "'/home/zzh'"
      ]
     },
     "execution_count": 34,
     "metadata": {},
     "output_type": "execute_result"
    }
   ],
   "source": [
    "os.path.dirname('/home/zzh/Applications')"
   ]
  },
  {
   "cell_type": "code",
   "execution_count": null,
   "id": "8edffd8a-2405-4deb-9df8-c67995a055f6",
   "metadata": {},
   "outputs": [],
   "source": []
  }
 ],
 "metadata": {
  "kernelspec": {
   "display_name": "Python 3 (ipykernel)",
   "language": "python",
   "name": "python3"
  },
  "language_info": {
   "codemirror_mode": {
    "name": "ipython",
    "version": 3
   },
   "file_extension": ".py",
   "mimetype": "text/x-python",
   "name": "python",
   "nbconvert_exporter": "python",
   "pygments_lexer": "ipython3",
   "version": "3.8.0"
  }
 },
 "nbformat": 4,
 "nbformat_minor": 5
}
