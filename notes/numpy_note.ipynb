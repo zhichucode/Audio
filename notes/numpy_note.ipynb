{
 "cells": [
  {
   "cell_type": "code",
   "execution_count": 4,
   "id": "d3c30f46-4287-4035-91c4-fc5fcb21a3f7",
   "metadata": {},
   "outputs": [
    {
     "name": "stdout",
     "output_type": "stream",
     "text": [
      "[0 1 2 3 4 5]\n",
      "[[0 1]\n",
      " [2 3]\n",
      " [4 5]]\n"
     ]
    }
   ],
   "source": [
    "import numpy as np\n",
    "a = np.arange(6)\n",
    "print(a)\n",
    "a = a.reshape((3, 2))\n",
    "print(a)"
   ]
  },
  {
   "cell_type": "code",
   "execution_count": 6,
   "id": "85061f2a-7c66-407d-9216-96d32df0666d",
   "metadata": {},
   "outputs": [
    {
     "data": {
      "text/plain": [
       "array([[0, 1, 2],\n",
       "       [3, 4, 5]])"
      ]
     },
     "execution_count": 6,
     "metadata": {},
     "output_type": "execute_result"
    }
   ],
   "source": [
    "a = np.arange(6)\n",
    "np.reshape(a, (2,3))"
   ]
  },
  {
   "cell_type": "code",
   "execution_count": 7,
   "id": "73b7f459-a785-4bc3-8d1d-7973487e0f70",
   "metadata": {},
   "outputs": [],
   "source": [
    "a = np.array([[1,2,3], [4,5,6]])"
   ]
  },
  {
   "cell_type": "code",
   "execution_count": 8,
   "id": "1888b64c-f712-4f3e-91c5-6219eee90c1d",
   "metadata": {},
   "outputs": [
    {
     "data": {
      "text/plain": [
       "array([1, 2, 3, 4, 5, 6])"
      ]
     },
     "execution_count": 8,
     "metadata": {},
     "output_type": "execute_result"
    }
   ],
   "source": [
    "np.reshape(a, 6)"
   ]
  },
  {
   "cell_type": "code",
   "execution_count": 17,
   "id": "40f19eab-2c17-4c95-93a4-d7728978615c",
   "metadata": {},
   "outputs": [
    {
     "data": {
      "text/plain": [
       "array([[1],\n",
       "       [4],\n",
       "       [2],\n",
       "       [5],\n",
       "       [3],\n",
       "       [6]])"
      ]
     },
     "execution_count": 17,
     "metadata": {},
     "output_type": "execute_result"
    }
   ],
   "source": [
    "np.reshape(a, (6,-1), order='F')"
   ]
  },
  {
   "cell_type": "code",
   "execution_count": 18,
   "id": "fa205af5-c3ff-4505-89b0-4bb626934344",
   "metadata": {},
   "outputs": [
    {
     "data": {
      "text/plain": [
       "4"
      ]
     },
     "execution_count": 18,
     "metadata": {},
     "output_type": "execute_result"
    }
   ],
   "source": [
    "len(np.array([[1,2],[3,4],[5,6]]))\n",
    "len(np.array([[2,3,1,0], [2,3,1,0], [3,2,1,1]]).T)"
   ]
  },
  {
   "cell_type": "code",
   "execution_count": 19,
   "id": "07e59506-fed3-458d-a224-25c3ac632560",
   "metadata": {},
   "outputs": [
    {
     "data": {
      "text/plain": [
       "6917529010461212688"
      ]
     },
     "execution_count": 19,
     "metadata": {},
     "output_type": "execute_result"
    }
   ],
   "source": [
    "x = np.array([536870910, 536870910, 536870910, 536870910])\n",
    "np.prod(x)"
   ]
  },
  {
   "cell_type": "code",
   "execution_count": 20,
   "id": "f4e5d098-81bb-4a7e-94ac-e3f5c42e8182",
   "metadata": {},
   "outputs": [
    {
     "data": {
      "text/plain": [
       "1.0"
      ]
     },
     "execution_count": 20,
     "metadata": {},
     "output_type": "execute_result"
    }
   ],
   "source": [
    "np.prod([])"
   ]
  },
  {
   "cell_type": "code",
   "execution_count": 21,
   "id": "14e62e4b-a093-4f9c-b9bd-929d916a1e00",
   "metadata": {},
   "outputs": [
    {
     "data": {
      "text/plain": [
       "2"
      ]
     },
     "execution_count": 21,
     "metadata": {},
     "output_type": "execute_result"
    }
   ],
   "source": [
    "np.prod([1,2])"
   ]
  },
  {
   "cell_type": "code",
   "execution_count": 22,
   "id": "45058dc3-7014-4aec-b252-240760f927be",
   "metadata": {},
   "outputs": [
    {
     "data": {
      "text/plain": [
       "24"
      ]
     },
     "execution_count": 22,
     "metadata": {},
     "output_type": "execute_result"
    }
   ],
   "source": [
    "np.prod([[1,2],[3,4]])"
   ]
  },
  {
   "cell_type": "code",
   "execution_count": 25,
   "id": "4945db72-7e58-488f-9ec8-221cfc8a59ea",
   "metadata": {},
   "outputs": [
    {
     "data": {
      "text/plain": [
       "array([3, 8])"
      ]
     },
     "execution_count": 25,
     "metadata": {},
     "output_type": "execute_result"
    }
   ],
   "source": [
    "np.prod([[1,2],[3,4]], axis = 0)"
   ]
  },
  {
   "cell_type": "code",
   "execution_count": null,
   "id": "8ddff311-432b-4819-8006-36ab943bc5d0",
   "metadata": {},
   "outputs": [],
   "source": []
  }
 ],
 "metadata": {
  "kernelspec": {
   "display_name": "Python 3 (ipykernel)",
   "language": "python",
   "name": "python3"
  },
  "language_info": {
   "codemirror_mode": {
    "name": "ipython",
    "version": 3
   },
   "file_extension": ".py",
   "mimetype": "text/x-python",
   "name": "python",
   "nbconvert_exporter": "python",
   "pygments_lexer": "ipython3",
   "version": "3.8.0"
  }
 },
 "nbformat": 4,
 "nbformat_minor": 5
}
